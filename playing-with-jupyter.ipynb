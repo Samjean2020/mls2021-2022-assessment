{
 "cells": [
  {
   "cell_type": "code",
   "execution_count": 1,
   "metadata": {},
   "outputs": [],
   "source": [
    "i = 1"
   ]
  },
  {
   "cell_type": "code",
   "execution_count": 2,
   "metadata": {},
   "outputs": [],
   "source": [
    "j = 2"
   ]
  },
  {
   "cell_type": "code",
   "execution_count": 3,
   "metadata": {},
   "outputs": [],
   "source": [
    "k = i + j"
   ]
  },
  {
   "cell_type": "code",
   "execution_count": 4,
   "metadata": {},
   "outputs": [
    {
     "data": {
      "text/plain": [
       "3"
      ]
     },
     "execution_count": 4,
     "metadata": {},
     "output_type": "execute_result"
    }
   ],
   "source": [
    "k"
   ]
  },
  {
   "attachments": {
    "003-dog.png": {
     "image/png": "[encoded data removed]"
    }
   },
   "cell_type": "markdown",
   "metadata": {},
   "source": [
    "# I am a heading\n",
    "\n",
    "- I am a list.\n",
    "- I am a list.\n",
    "- I am the third item.\n",
    "  ![003-dog.png](attachment:003-dog.png)\n",
    "\n",
    "**Bold text**"
   ]
  },
  {
   "cell_type": "markdown",
   "metadata": {},
   "source": [
    "\n"
   ]
  },
  {
   "cell_type": "markdown",
   "metadata": {},
   "source": [
    "### Simple Linear Regression"
   ]
  },
  {
   "cell_type": "markdown",
   "metadata": {},
   "source": [
    "### Introduction"
   ]
  },
  {
   "cell_type": "markdown",
   "metadata": {},
   "source": [
    "##### What is Simple Linear Regression?\n",
    "\n",
    "Simple linear regression can be defined as a statistical technique that enables us to sump up and investigate correlations between two variables. Variable on the x-axis is called the predicator, explanatory or independent; whereas, the variable on the y-axis is considered as the response, outcome or dependent[5]\n",
    "\n",
    "###### Demonstrating a Simple Linear Regression using an equation\n",
    "\n",
    "F = 9/5 * c + 32\n",
    "\n",
    "The formula above F = 9/5 * C + 32 establishes the relationship between degrees Fahrenheit and degrees Celsius[5], using Numpy.linspace() function to convert a list of Celsius values into Fahrenheit [2]\n",
    "\n"
   ]
  },
  {
   "cell_type": "markdown",
   "metadata": {},
   "source": [
    "### References"
   ]
  },
  {
   "cell_type": "markdown",
   "metadata": {},
   "source": [
    "[1] Chegg(2020)\"Slope Of Regression Line\": https://www.chegg.com/homework-help/definitions/slope-of-regression-line-31 (Accessed 22/12/2020).\n",
    "\n",
    "[2] Geeksforgeeks(2020)\"Convert list of Celsius values into Fahrenheit using NumPy array\" https://www.geeksforgeeks.org/convert-list-of-celsius-values-into-fahrenheit-using-numpy-array/?ref=rp (Accessed 20/11/2020).\n",
    "\n",
    "[3] Jakevdp(2020)\"In Depth: Linear Regression\": https://jakevdp.github.io/PythonDataScienceHandbook/05.06-linear-regression.html (Accessed 15/11/2020).\n",
    "\n",
    "[4] McKinney W. (2018) “Python for Data Analysis: Data Wrangling with Pandas, Numpy, and IPython” 2nd Edition (Sebastopol: O’Reilly Media, Inc).\n",
    "\n",
    "[5] PennState Eberly College of Science (2020) \"2.1 - What is Simple Linear Regression?\"https://online.stat.psu.edu/stat462/node/91/ (Accessed 10/11/2020)."
   ]
  },
  {
   "cell_type": "markdown",
   "metadata": {},
   "source": [
    "###### Python standard imports"
   ]
  },
  {
   "cell_type": "code",
   "execution_count": 14,
   "metadata": {},
   "outputs": [],
   "source": [
    "# Magic command in Ipython displaying the output.  \n",
    "%matplotlib inline\n",
    "\n",
    "# Numerical arrays and fitting lines\n",
    "import numpy as np\n",
    "# Plots.\n",
    "import matplotlib.pyplot as plt\n",
    "# Data visualisation\n",
    "import seaborn as sns\n",
    "\n",
    "#Import pandas as pd for data analysis and manipulation.\n",
    "import pandas as pd\n",
    "\n",
    "# Import sklearn module for machine learning and data mining.\n",
    "from sklearn.linear_model import LinearRegression\n",
    "\n",
    "# Nicer plot style.\n",
    "plt.style.use('ggplot')\n",
    "# Bigger plots.\n",
    "plt.rcParams['figure.figsize'] = 20, 10"
   ]
  },
  {
   "cell_type": "markdown",
   "metadata": {},
   "source": [
    "##### Solution on the equation in Python"
   ]
  },
  {
   "cell_type": "code",
   "execution_count": 16,
   "metadata": {},
   "outputs": [
    {
     "name": "stdout",
     "output_type": "stream",
     "text": [
      "Celsius [ 0.  12.5 25.  37.5 50. ]\n",
      "Fahrenheit [ 32.   54.5  77.   99.5 122. ]\n"
     ]
    }
   ],
   "source": [
    "# Generate degrees Celsius using Numpy.linspace() function to draw temperatures from 0 t0 50 and list 5 of them.\n",
    "C = np.linspace(0.0, 50, 5) \n",
    "print(f\"Celsius {C}\") \n",
    "  \n",
    "# Using formulae \n",
    "F = (9/5 * C + 32) \n",
    "  \n",
    "# Printing results \n",
    "print(f\"Fahrenheit {F}\")"
   ]
  },
  {
   "cell_type": "code",
   "execution_count": 17,
   "metadata": {},
   "outputs": [
    {
     "name": "stdout",
     "output_type": "stream",
     "text": [
      "Celsius [0.0, 12.5, 25.0, 37.5, 50.0]\n",
      "Fahrenheit [32.0, 54.5, 77.0, 99.5, 122.0]\n"
     ]
    }
   ],
   "source": [
    "# Use input provided by the Numpy.linspace() function\n",
    "inp = [0.,  12.5, 25.,  37.5, 50.]\n",
    "\n",
    "# Store the input(inp)in C under list comprehension\n",
    "C= [i for i in inp] \n",
    "\n",
    "# Print result from C \n",
    "print(f\"Celsius {C}\") \n",
    "  \n",
    "# applying formulae using list comprehension \n",
    "F = [(9/5 * i + 32) for i in C] \n",
    "\n",
    "# printing results \n",
    "print(f\"Fahrenheit {F}\")"
   ]
  },
  {
   "cell_type": "markdown",
   "metadata": {},
   "source": [
    "###### Create Celsius and Fahrenheit variables"
   ]
  },
  {
   "cell_type": "code",
   "execution_count": 18,
   "metadata": {},
   "outputs": [],
   "source": [
    "# Temperatures in degrees Celsius generated from numpy linspace()\n",
    "Celsius = 0.0, 12.5, 25.0, 37.5, 50.0"
   ]
  },
  {
   "cell_type": "code",
   "execution_count": 19,
   "metadata": {},
   "outputs": [
    {
     "data": {
      "text/plain": [
       "(0.0, 12.5, 25.0, 37.5, 50.0)"
      ]
     },
     "execution_count": 19,
     "metadata": {},
     "output_type": "execute_result"
    }
   ],
   "source": [
    "# Call Celsius\n",
    "Celsius"
   ]
  },
  {
   "cell_type": "code",
   "execution_count": 21,
   "metadata": {},
   "outputs": [],
   "source": [
    "# Temperatures in degrees Fahrenheit generated under the formulae above\n",
    "Fahrenheit = 32.0, 54.5, 77.0, 99.5, 122.0"
   ]
  },
  {
   "cell_type": "code",
   "execution_count": 22,
   "metadata": {},
   "outputs": [
    {
     "data": {
      "text/plain": [
       "(32.0, 54.5, 77.0, 99.5, 122.0)"
      ]
     },
     "execution_count": 22,
     "metadata": {},
     "output_type": "execute_result"
    }
   ],
   "source": [
    "# Call Fahrenheit\n",
    "Fahrenheit"
   ]
  },
  {
   "cell_type": "markdown",
   "metadata": {},
   "source": [
    "##### Plot to see the relationship between degrees Fahrenheit and degrees Celsius"
   ]
  },
  {
   "cell_type": "code",
   "execution_count": 23,
   "metadata": {},
   "outputs": [
    {
     "data": {
      "text/plain": [
       "Text(0, 0.5, 'Fahrenheit')"
      ]
     },
     "execution_count": 23,
     "metadata": {},
     "output_type": "execute_result"
    },
    {
     "data": {
      "image/png": "[encoded data removed]",
      "text/plain": [
       "<Figure size 1440x720 with 1 Axes>"
      ]
     },
     "metadata": {},
     "output_type": "display_data"
    }
   ],
   "source": [
    "# Let's have a plot with a straight line fit to see the relationship.\n",
    "plt.plot(Celsius, Fahrenheit, \"-\", color = \"b\")\n",
    "\n",
    "plt.title(\"The relationship between degrees Fahrenheit and degrees Celsius\")\n",
    "plt.xlabel(\"Celsius\")\n",
    "plt.ylabel(\"Fahrenheit\")"
   ]
  },
  {
   "cell_type": "markdown",
   "metadata": {},
   "source": [
    "A straight or simple linear regression on the plot above suggesting a perfect relationship between temperatures in degrees Celsius and temperatures in degrees Fahrenheit. An increase on independent values is followed by an increase on dependent values. A positive relationship or correlation."
   ]
  },
  {
   "cell_type": "markdown",
   "metadata": {},
   "source": [
    "#### A scatter plot"
   ]
  },
  {
   "cell_type": "code",
   "execution_count": 24,
   "metadata": {},
   "outputs": [
    {
     "data": {
      "text/plain": [
       "Text(0, 0.5, 'Fahrenheit')"
      ]
     },
     "execution_count": 24,
     "metadata": {},
     "output_type": "execute_result"
    },
    {
     "data": {
      "image/png": "[encoded data removed]",
      "text/plain": [
       "<Figure size 1440x720 with 1 Axes>"
      ]
     },
     "metadata": {},
     "output_type": "display_data"
    }
   ],
   "source": [
    "# Let's have another plot with dots in line.\n",
    "plt.scatter( Celsius, Fahrenheit, color = \"b\")\n",
    "plt.title(\"The relationship between degrees Fahrenheit and degrees Celsius\")\n",
    "plt.xlabel(\"Celsius\")\n",
    "plt.ylabel(\"Fahrenheit\")"
   ]
  },
  {
   "cell_type": "markdown",
   "metadata": {},
   "source": [
    "A line of dots or points of simple linear regression on the plot above corroborating the perfect relationship between temperatures in degrees Celsius and temperatures in degrees Fahrenheit. An increase on independent values is followed by an increase on dependent values. A positive relationship or correlation."
   ]
  },
  {
   "cell_type": "markdown",
   "metadata": {},
   "source": [
    "#### Regression explanation and analysis\n",
    "\n",
    "#### Defining and Concepts Simple Linear Regression\n",
    "\n",
    "After defining simple linear regression, I used two formulae to explain simple linear regression concepts: Celsius and Fahrenheit degrees temperatures (F=9/5∗c+32) and a straight-line fit model (y= ax + b). After Python standard imports, the solutions and outputs were as follows: a straight or simple linear regression on the plot suggested a perfect relationship between temperatures in degrees Celsius and temperatures in degrees Fahrenheit. An increase on independent values was followed by an increase on dependent values, demonstrating a positive relationship or correlation. A scatter plot produced a similar output based on a line of dots or points of simple linear regression corroborating the perfect relationship between temperatures in degrees Celsius and temperatures in degrees Fahrenheit. For the second example, create a model and fit it using LinearRegression () function and LinearRegression.fit () function as follows: model = LinearRegression (fit_intercept=True), model.fit(x2[:, np.newaxis], y2). Generate data for x2fit and y2fit as follows x2fit = np.linspace(0, 10, 500) and y2fit = model.predict(x2fit[:, np.newaxis]). Get their coefficient as follows: np.polyfit(x2fit, y2fit, 1). X2fit and y2fit coefficient is with an array: ([ 2.02720881, -4.99857709]). Have a scatter plot coupled with a best-fit line. The output is a plot displaying linear scattered points suggesting a relationship between x-axis and y-axis values (x2 and y2). A best-fit line is inserted between linear scattered points observed on the previous plot demonstrating simple linear regression, and eventually a correlation and/or relationship between both axes values, while using Scikit-Learn's LinearRegression estimator. For defining and concepts on simple linear regression, I have used two formulae F= 9/5 * C + 32, to show the relationship between degrees Fahrenheit and degrees Celsius, and y = ax + b to demonstrate relationship in randomly generated set of data with a slope of 2 and an intercept of-5 and best-fit line using Scikit-Learn’s Linear Regression estimator."
   ]
  },
  {
   "cell_type": "markdown",
   "metadata": {},
   "source": [
    "# Conclusion"
   ]
  },
  {
   "cell_type": "markdown",
   "metadata": {},
   "source": [
    "In this assignment, I have used Jupyter notebook features to format texts, insert images and execute Python algorithms (mathematical operations and simple linear regression plots) followed by an analysis.    "
   ]
  },
  {
   "cell_type": "code",
   "execution_count": null,
   "metadata": {},
   "outputs": [],
   "source": []
  }
 ],
 "metadata": {
  "kernelspec": {
   "display_name": "Python 2",
   "language": "python",
   "name": "python2"
  },
  "language_info": {
   "codemirror_mode": {
    "name": "ipython",
    "version": 2
   },
   "file_extension": ".py",
   "mimetype": "text/x-python",
   "name": "python",
   "nbconvert_exporter": "python",
   "pygments_lexer": "ipython2",
   "version": "2.7.16"
  }
 },
 "nbformat": 4,
 "nbformat_minor": 4
}
